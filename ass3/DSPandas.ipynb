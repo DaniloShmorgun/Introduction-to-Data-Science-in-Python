{
 "cells": [
  {
   "cell_type": "code",
   "execution_count": 104,
   "metadata": {},
   "outputs": [
    {
     "name": "stdout",
     "output_type": "stream",
     "text": [
      "{'less than high school': 0.10202002459160373, 'high school': 0.172352011241876, 'more than high school but not college': 0.24588090637625154, 'college': 0.47974705779026877}\n"
     ]
    }
   ],
   "source": [
    "import pandas as pd\n",
    "\n",
    "df = pd.read_csv('assets/NISPUF17.csv')\n",
    "education = df['EDUC1']\n",
    "\n",
    "keys = ['less than high school', 'high school', 'more than high school but not college', 'college']\n",
    "\n",
    "count_childs = len(education)\n",
    "\n",
    "values = [len(education[education == 1]) / count_childs, len(education[education == 2])/ count_childs,len(education[education == 3])/ count_childs, len(education[education == 4]) / count_childs]\n",
    "\n",
    "res = {key : val  for key, val in zip(keys, values)}\n",
    "\n",
    "print(res)"
   ]
  },
  {
   "cell_type": "code",
   "execution_count": 110,
   "metadata": {},
   "outputs": [
    {
     "name": "stdout",
     "output_type": "stream",
     "text": [
      "['Unnamed: 0', 'SEQNUMC', 'SEQNUMHH', 'PDAT', 'PROVWT_D', 'RDDWT_D', 'STRATUM', 'YEAR', 'AGECPOXR', 'HAD_CPOX', 'AGEGRP', 'BF_ENDR06', 'BF_EXCLR06', 'BF_FORMR08', 'BFENDFL06', 'BFFORMFL06', 'C1R', 'C5R', 'CBF_01', 'CEN_REG', 'CHILDNM', 'CWIC_01', 'CWIC_02', 'EDUC1', 'FRSTBRN', 'I_HISP_K', 'INCPORAR', 'INCPORAR_I', 'INCPOV1', 'INCQ298A', 'LANGUAGE', 'M_AGEGRP2', 'MARITAL2', 'MOBIL_I', 'NUM_PHONE', 'NUM_CELLS_HH', 'NUM_CELLS_PARENTS', 'RACE_K', 'RACEETHK', 'RENT_OWN', 'SEX', 'ESTIAP17', 'EST_GRANT', 'STATE', 'D6R', 'D7', 'N_PRVR', 'PROV_FAC', 'REGISTRY', 'VFC_ORDER', 'HEP_BRTH', 'HEP_FLAG', 'P_NUHEPX', 'P_NUHIBX', 'P_NUHPHB', 'P_NUMDAH', 'P_NUMDHI', 'P_NUMDIH', 'P_NUMDTA', 'P_NUMDTP', 'P_NUMFLU', 'P_NUMFLUL', 'P_NUMFLUM', 'P_NUMFLUN', 'P_NUMHEA', 'P_NUMHEN', 'P_NUMHEP', 'P_NUMHG', 'P_NUMHHY', 'P_NUMHIB', 'P_NUMHIN', 'P_NUMHION', 'P_NUMHM', 'P_NUMHS', 'P_NUMIPV', 'P_NUMMCN', 'P_NUMMMR', 'P_NUMMMRX', 'P_NUMMMX', 'P_NUMMP', 'P_NUMMPR', 'P_NUMMRV', 'P_NUMMS', 'P_NUMMSM', 'P_NUMMSR', 'P_NUMOLN', 'P_NUMOPV', 'P_NUMPCV', 'P_NUMPCP', 'P_NUMPCC', 'P_NUMPCC7', 'P_NUMPCC13', 'P_NUMPCCN', 'P_NUMPCN', 'P_NUMPOL', 'P_NUMRB', 'P_NUMRG', 'P_NUMRM', 'P_NUMRO', 'P_NUMROT', 'P_NUMTPN', 'P_NUMVRC', 'P_NUMVRN', 'P_NUMVRX', 'P_U12VRC', 'P_UTD331', 'P_UTD431', 'P_UTDHEP', 'P_UTDHEPA1', 'P_UTDHEPA2', 'P_UTDHIB', 'P_UTDHIB_ROUT_S', 'P_UTDHIB_SHORT_S', 'P_UTDMCV', 'P_UTDMMX', 'P_UTDPC3', 'P_UTDPCV', 'P_UTDPCVB13', 'P_UTDPOL', 'P_UTDROT_S', 'P_UTDTP3', 'P_UTDTP4', 'PU431331', 'P_UTD431H31_ROUT_S', 'PU431_31', 'PU4313313', 'P_UTD431H313_ROUT_S', 'PU4313314', 'P_UTD431H314_ROUT_S', 'PU431_314', 'PUT43133', 'P_UTD431H3_ROUT_S', 'PUTD4313', 'P_UTD431H_ROUT_S', 'U1D_HEP', 'U2D_HEP', 'U3D_HEP', 'DDTP1', 'DDTP2', 'DDTP3', 'DDTP4', 'DDTP5', 'DDTP6', 'DDTP7', 'DDTP8', 'DDTP9', 'DFLU1', 'DFLU2', 'DFLU3', 'DFLU4', 'DFLU5', 'DFLU6', 'DFLU7', 'DFLU8', 'DFLU9', 'DHEPA1', 'DHEPA2', 'DHEPA3', 'DHEPA4', 'DHEPA5', 'DHEPA6', 'DHEPA7', 'DHEPA8', 'DHEPA9', 'DHEPB1', 'DHEPB2', 'DHEPB3', 'DHEPB4', 'DHEPB5', 'DHEPB6', 'DHEPB7', 'DHEPB8', 'DHEPB9', 'DHIB1', 'DHIB2', 'DHIB3', 'DHIB4', 'DHIB5', 'DHIB6', 'DHIB7', 'DHIB8', 'DHIB9', 'DMMR1', 'DMMR2', 'DMMR3', 'DMMR4', 'DMMR5', 'DMMR6', 'DMMR7', 'DMMR8', 'DMMR9', 'DMP1', 'DMP2', 'DMP3', 'DMP4', 'DMP5', 'DMP6', 'DMP7', 'DMP8', 'DMP9', 'DMPRB1', 'DMPRB2', 'DMPRB3', 'DMPRB4', 'DMPRB5', 'DMPRB6', 'DMPRB7', 'DMPRB8', 'DMPRB9', 'DPCV1', 'DPCV2', 'DPCV3', 'DPCV4', 'DPCV5', 'DPCV6', 'DPCV7', 'DPCV8', 'DPCV9', 'DPOLIO1', 'DPOLIO2', 'DPOLIO3', 'DPOLIO4', 'DPOLIO5', 'DPOLIO6', 'DPOLIO7', 'DPOLIO8', 'DPOLIO9', 'DRB1', 'DRB2', 'DRB3', 'DRB4', 'DRB5', 'DRB6', 'DRB7', 'DRB8', 'DRB9', 'DROT1', 'DROT2', 'DROT3', 'DROT4', 'DROT5', 'DROT6', 'DROT7', 'DROT8', 'DROT9', 'DVRC1', 'DVRC2', 'DVRC3', 'DVRC4', 'DVRC5', 'DVRC6', 'DVRC7', 'DVRC8', 'DVRC9', 'DTP1_AGE', 'DTP2_AGE', 'DTP3_AGE', 'DTP4_AGE', 'DTP5_AGE', 'DTP6_AGE', 'DTP7_AGE', 'DTP8_AGE', 'DTP9_AGE', 'FLU1_AGE', 'FLU2_AGE', 'FLU3_AGE', 'FLU4_AGE', 'FLU5_AGE', 'FLU6_AGE', 'FLU7_AGE', 'FLU8_AGE', 'FLU9_AGE', 'HEA1_AGE', 'HEA2_AGE', 'HEA3_AGE', 'HEA4_AGE', 'HEA5_AGE', 'HEA6_AGE', 'HEA7_AGE', 'HEA8_AGE', 'HEA9_AGE', 'HEP1_AGE', 'HEP2_AGE', 'HEP3_AGE', 'HEP4_AGE', 'HEP5_AGE', 'HEP6_AGE', 'HEP7_AGE', 'HEP8_AGE', 'HEP9_AGE', 'HIB1_AGE', 'HIB2_AGE', 'HIB3_AGE', 'HIB4_AGE', 'HIB5_AGE', 'HIB6_AGE', 'HIB7_AGE', 'HIB8_AGE', 'HIB9_AGE', 'MMR1_AGE', 'MMR2_AGE', 'MMR3_AGE', 'MMR4_AGE', 'MMR5_AGE', 'MMR6_AGE', 'MMR7_AGE', 'MMR8_AGE', 'MMR9_AGE', 'MP1_AGE', 'MP2_AGE', 'MP3_AGE', 'MP4_AGE', 'MP5_AGE', 'MP6_AGE', 'MP7_AGE', 'MP8_AGE', 'MP9_AGE', 'MPR1_AGE', 'MPR2_AGE', 'MPR3_AGE', 'MPR4_AGE', 'MPR5_AGE', 'MPR6_AGE', 'MPR7_AGE', 'MPR8_AGE', 'MPR9_AGE', 'PCV1_AGE', 'PCV2_AGE', 'PCV3_AGE', 'PCV4_AGE', 'PCV5_AGE', 'PCV6_AGE', 'PCV7_AGE', 'PCV8_AGE', 'PCV9_AGE', 'POL1_AGE', 'POL2_AGE', 'POL3_AGE', 'POL4_AGE', 'POL5_AGE', 'POL6_AGE', 'POL7_AGE', 'POL8_AGE', 'POL9_AGE', 'RB1_AGE', 'RB2_AGE', 'RB3_AGE', 'RB4_AGE', 'RB5_AGE', 'RB6_AGE', 'RB7_AGE', 'RB8_AGE', 'RB9_AGE', 'ROT1_AGE', 'ROT2_AGE', 'ROT3_AGE', 'ROT4_AGE', 'ROT5_AGE', 'ROT6_AGE', 'ROT7_AGE', 'ROT8_AGE', 'ROT9_AGE', 'VRC1_AGE', 'VRC2_AGE', 'VRC3_AGE', 'VRC4_AGE', 'VRC5_AGE', 'VRC6_AGE', 'VRC7_AGE', 'VRC8_AGE', 'VRC9_AGE', 'XDTPTY1', 'XDTPTY2', 'XDTPTY3', 'XDTPTY4', 'XDTPTY5', 'XDTPTY6', 'XDTPTY7', 'XDTPTY8', 'XDTPTY9', 'XFLUTY1', 'XFLUTY2', 'XFLUTY3', 'XFLUTY4', 'XFLUTY5', 'XFLUTY6', 'XFLUTY7', 'XFLUTY8', 'XFLUTY9', 'XHEPTY1', 'XHEPTY2', 'XHEPTY3', 'XHEPTY4', 'XHEPTY5', 'XHEPTY6', 'XHEPTY7', 'XHEPTY8', 'XHEPTY9', 'XHIBTY1', 'XHIBTY2', 'XHIBTY3', 'XHIBTY4', 'XHIBTY5', 'XHIBTY6', 'XHIBTY7', 'XHIBTY8', 'XHIBTY9', 'XMMRTY1', 'XMMRTY2', 'XMMRTY3', 'XMMRTY4', 'XMMRTY5', 'XMMRTY6', 'XMMRTY7', 'XMMRTY8', 'XMMRTY9', 'XPCVTY1', 'XPCVTY2', 'XPCVTY3', 'XPCVTY4', 'XPCVTY5', 'XPCVTY6', 'XPCVTY7', 'XPCVTY8', 'XPCVTY9', 'XPOLTY1', 'XPOLTY2', 'XPOLTY3', 'XPOLTY4', 'XPOLTY5', 'XPOLTY6', 'XPOLTY7', 'XPOLTY8', 'XPOLTY9', 'XROTTY1', 'XROTTY2', 'XROTTY3', 'XROTTY4', 'XROTTY5', 'XROTTY6', 'XROTTY7', 'XROTTY8', 'XROTTY9', 'XVRCTY1', 'XVRCTY2', 'XVRCTY3', 'XVRCTY4', 'XVRCTY5', 'XVRCTY6', 'XVRCTY7', 'XVRCTY8', 'XVRCTY9', 'INS_STAT2_I', 'INS_BREAK_I']\n"
     ]
    }
   ],
   "source": [
    "str = df.columns.to_list()\n",
    "\n",
    "print(str)"
   ]
  },
  {
   "cell_type": "code",
   "execution_count": 116,
   "metadata": {},
   "outputs": [
    {
     "name": "stdout",
     "output_type": "stream",
     "text": [
      "[ 2  1 77 99]\n",
      "(1.8799187420058687, 1.5963945918878317)\n"
     ]
    }
   ],
   "source": [
    "import pandas as pd\n",
    "\n",
    "df = pd.read_csv('assets/NISPUF17.csv')\n",
    "\n",
    "df_2 = df[['P_NUMFLU', 'CBF_01']]\n",
    "\n",
    "df_2 = df_2.dropna()\n",
    "\n",
    "took = df_2[df_2['CBF_01'] == 1]\n",
    "n_took = df_2[df_2['CBF_01'] == 2]\n",
    "\n",
    "print(df_2['CBF_01'].unique())\n",
    "\n",
    "res = (took['P_NUMFLU'].sum() / len(took), n_took['P_NUMFLU'].sum() / len(n_took))\n",
    "\n",
    "print(res)"
   ]
  },
  {
   "cell_type": "code",
   "execution_count": 135,
   "metadata": {},
   "outputs": [
    {
     "name": "stdout",
     "output_type": "stream",
     "text": [
      "{'male': 0.009675583380762664, 'female': 0.0077918259335489565}\n",
      "HAD_CPOX [2. 1.]\n",
      "P_NUMVRC [1. 0. 2. 3.]\n",
      "SEX [2 1]\n"
     ]
    }
   ],
   "source": [
    "import pandas as pd\n",
    "\n",
    "df = pd.read_csv('assets/NISPUF17.csv')\n",
    "\n",
    "df_3 = df[['HAD_CPOX', 'P_NUMVRC','SEX']]\n",
    "\n",
    "\n",
    "df_3 = df_3[df_3 != 77]\n",
    "df_3 = df_3.dropna()\n",
    "\n",
    "male_ratio = len(df_3[(df_3['HAD_CPOX'] == 1) & (df_3['P_NUMVRC'] > 0) & (df_3['SEX'] == 1)]) /  len(df_3[(df_3['HAD_CPOX'] == 2) & (df_3['P_NUMVRC'] > 0) & (df_3['SEX'] == 1)])\n",
    "\n",
    "\n",
    "woman_ratio = len(df_3[(df_3['HAD_CPOX'] == 1) & (df_3['P_NUMVRC'] > 0) & (df_3['SEX'] == 2)]) /  len(df_3[(df_3['HAD_CPOX'] == 2) & (df_3['P_NUMVRC'] > 0) & (df_3['SEX'] == 2)])\n",
    "\n",
    "res = {'male' : male_ratio, 'female' : woman_ratio}\n",
    "\n",
    "\n",
    "    "
   ]
  },
  {
   "cell_type": "code",
   "execution_count": 166,
   "metadata": {},
   "outputs": [
    {
     "name": "stdout",
     "output_type": "stream",
     "text": [
      "[2 1]\n",
      "0.07044873460147869 2.7780263182892073e-18\n"
     ]
    }
   ],
   "source": [
    "import pandas as pd\n",
    "import numpy as np\n",
    "import scipy.stats as stats \n",
    "\n",
    "\n",
    "df = pd.read_csv('assets/NISPUF17.csv')\n",
    "\n",
    "df4 = df[['HAD_CPOX', 'P_NUMVRC']]\n",
    "\n",
    "df4 = df4[(df4['HAD_CPOX'] != 99) & ((df4['HAD_CPOX'] != 77))]\n",
    "\n",
    "print(df4['HAD_CPOX'].unique())\n",
    "\n",
    "df4 = df4.dropna()\n",
    "\n",
    "df4.head()\n",
    "\n",
    "corr, pval = stats.pearsonr(df4['P_NUMVRC'], df4['HAD_CPOX'])\n",
    "\n",
    "print(corr, pval)"
   ]
  },
  {
   "cell_type": "code",
   "execution_count": 171,
   "metadata": {},
   "outputs": [
    {
     "data": {
      "text/plain": [
       "3"
      ]
     },
     "execution_count": 171,
     "metadata": {},
     "output_type": "execute_result"
    }
   ],
   "source": [
    "import pandas as pd\n",
    "(pd.Timestamp('11/29/2019') - pd.offsets.MonthEnd()).weekday()"
   ]
  },
  {
   "cell_type": "code",
   "execution_count": 172,
   "metadata": {},
   "outputs": [
    {
     "data": {
      "text/plain": [
       "Period('2019-06', 'M')"
      ]
     },
     "execution_count": 172,
     "metadata": {},
     "output_type": "execute_result"
    }
   ],
   "source": [
    "import pandas as pd\n",
    "pd.Period('01/12/2019', 'M') + 5"
   ]
  }
 ],
 "metadata": {
  "kernelspec": {
   "display_name": "Python 3",
   "language": "python",
   "name": "python3"
  },
  "language_info": {
   "codemirror_mode": {
    "name": "ipython",
    "version": 3
   },
   "file_extension": ".py",
   "mimetype": "text/x-python",
   "name": "python",
   "nbconvert_exporter": "python",
   "pygments_lexer": "ipython3",
   "version": "3.9.13"
  },
  "orig_nbformat": 4,
  "vscode": {
   "interpreter": {
    "hash": "b10f00923230f40905e54cee84197c5ac7e11c35dde1d534120ae4d83185fbf3"
   }
  }
 },
 "nbformat": 4,
 "nbformat_minor": 2
}
